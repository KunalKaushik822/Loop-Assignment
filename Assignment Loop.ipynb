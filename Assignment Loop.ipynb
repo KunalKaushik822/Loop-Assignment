{
 "cells": [
  {
   "cell_type": "code",
   "execution_count": 2,
   "id": "548978ae-b127-4085-aa53-2664e3ef9b6f",
   "metadata": {},
   "outputs": [],
   "source": [
    "#Q1. Explain with an example each when to use a for loop and a while loop."
   ]
  },
  {
   "cell_type": "code",
   "execution_count": 3,
   "id": "abe135a5-b3a2-4149-b83c-211b640edd09",
   "metadata": {},
   "outputs": [
    {
     "name": "stdout",
     "output_type": "stream",
     "text": [
      "pen\n",
      "notebook\n",
      "pencil\n",
      "lunch box\n"
     ]
    }
   ],
   "source": [
    "#Ans. In Python a \"for loop\" is used to iterate over a sequence of items, such as a Python tuple, list, string, or range.The loop will execute a block of statements for each items in the sequence.\n",
    "#For example\n",
    "items = ['pen', 'notebook',\n",
    "         'pencil', 'lunch box']\n",
    "  \n",
    "# Run a loop to print\n",
    "# items in a list\n",
    "for item in items:\n",
    "  print(item)"
   ]
  },
  {
   "cell_type": "code",
   "execution_count": 4,
   "id": "084fb1fc-a126-4e68-8311-4d78abe17df4",
   "metadata": {},
   "outputs": [
    {
     "name": "stdout",
     "output_type": "stream",
     "text": [
      "pen\n",
      "notebook\n",
      "pencil\n",
      "lunch box\n"
     ]
    }
   ],
   "source": [
    "#In Python, a \"while loop\" is used to repeatedly execute a block of statements while a condition is true. The loop will continue to run as long as the condition remains true.\n",
    "#For example\n",
    "# Create a list of items\n",
    "items = ['pen', 'notebook',\n",
    "         'pencil', 'lunch box']\n",
    "  \n",
    "# Declare a index\n",
    "index = 0\n",
    "  \n",
    "# Store length of items list\n",
    "items_len = len(items)\n",
    "  \n",
    "# Run a loop to print\n",
    "# items in a list\n",
    "while index<items_len:\n",
    "  print(items[index])\n",
    "  index = index+1"
   ]
  },
  {
   "cell_type": "code",
   "execution_count": 10,
   "id": "fabf599d-e4f0-46cc-90b3-cc9fce01d8be",
   "metadata": {},
   "outputs": [
    {
     "name": "stdout",
     "output_type": "stream",
     "text": [
      "sum of first 10 natural is : 55\n"
     ]
    }
   ],
   "source": [
    "#Q2. Write a python program to print the sum and product of the first 10 natural numbers using for\n",
    "#and while loop.\n",
    "sum = 0  # Sum, Using for loop\n",
    "for i in range(1,11):\n",
    "    sum = sum + i\n",
    "print(\"sum of first 10 natural is :\", sum)"
   ]
  },
  {
   "cell_type": "code",
   "execution_count": 18,
   "id": "57dbda49-140a-431a-871d-6f8312cf5929",
   "metadata": {},
   "outputs": [
    {
     "name": "stdout",
     "output_type": "stream",
     "text": [
      "sum of first 10 natural is : 55\n"
     ]
    }
   ],
   "source": [
    "#Sum, Using while loop\n",
    "sum = 0\n",
    "i = 1\n",
    "while i<=10:\n",
    "    sum+=i\n",
    "    i=i+1\n",
    "print(\"sum of first 10 natural is :\", sum)\n",
    "\n",
    "\n"
   ]
  },
  {
   "cell_type": "code",
   "execution_count": 6,
   "id": "51b5166a-fa5e-4667-9fc0-458efcc89fb6",
   "metadata": {},
   "outputs": [],
   "source": [
    "#product of 10 Natural using for loop\n"
   ]
  },
  {
   "cell_type": "code",
   "execution_count": 5,
   "id": "28366928-3e79-497d-b4e0-41a8049e92f0",
   "metadata": {},
   "outputs": [
    {
     "name": "stdout",
     "output_type": "stream",
     "text": [
      "The product is:  3628800\n"
     ]
    }
   ],
   "source": [
    "product = 1 \n",
    "\n",
    "for i in range(1,11):\n",
    "    product = product*i\n",
    "print(\"The product is: \",product)"
   ]
  },
  {
   "cell_type": "code",
   "execution_count": 4,
   "id": "87ea7c46-8eb6-4a5c-97d6-ff2267ac182b",
   "metadata": {},
   "outputs": [
    {
     "name": "stdin",
     "output_type": "stream",
     "text": [
      "Enter a number 10\n"
     ]
    },
    {
     "name": "stdout",
     "output_type": "stream",
     "text": [
      "The product is :  3628800\n"
     ]
    }
   ],
   "source": [
    "#product of 10 Natural using while loop\n",
    "number = int(input(\"Enter a number\"))\n",
    "product = 1\n",
    "i=1\n",
    "while i<=number:\n",
    "    product=product*i\n",
    "    i=i+1\n",
    "print(\"The product is : \",product)"
   ]
  },
  {
   "cell_type": "code",
   "execution_count": 8,
   "id": "45ea0b0c-3c77-44a0-9c94-c32e54d10c0d",
   "metadata": {},
   "outputs": [],
   "source": [
    "# Q3. Create a python program to compute the electricity bill for a household.The per-unit charges in rupees are as follows: For the first 100 units, the user will be charged Rs. 4.5 per\n",
    "# unit, for the next 100 units, the user will be charged Rs. 6 per unit, and for the next 100 units, the user will\n",
    "# be charged Rs. 10 per unit, After 300 units and above the user will be charged Rs. 20 per unit.\n",
    "# You are required to take the units of electricity consumed in a month from the user as input.\n",
    "# Your program must pass this test case: when the unit of electricity consumed by the user in a month is\n",
    "# 310, the total electricity bill should be 2250.'''\n",
    "\n",
    "\n",
    "\n",
    "# First = 100 * 4.5\n",
    "# Second = 100 * 6\n",
    "# Third = 100 * 10\n",
    "# After = 10 * 20"
   ]
  },
  {
   "cell_type": "code",
   "execution_count": 7,
   "id": "72233fbb-1793-45b7-a8c5-26b87d92078a",
   "metadata": {},
   "outputs": [
    {
     "name": "stdin",
     "output_type": "stream",
     "text": [
      "Enter your unit:  310\n"
     ]
    },
    {
     "name": "stdout",
     "output_type": "stream",
     "text": [
      "Bill: 2250.0\n"
     ]
    }
   ],
   "source": [
    "unit = int(input(\"Enter your unit: \"))\n",
    "\n",
    "if unit <= 100:\n",
    "    bill = unit * 4.5\n",
    "    print(\"Bill:\", bill)\n",
    "elif unit <= 200:\n",
    "    bill = 100 * 4.5 + (unit - 100) * 6\n",
    "    print(\"Bill:\", bill)\n",
    "elif unit <= 300:\n",
    "    bill = 100 * 4.5 + 100 * 6 + (unit - 200) * 10\n",
    "    print(\"Bill:\", bill)\n",
    "else:\n",
    "    bill = 100 * 4.5 + 100 * 6 + 100 * 10 + (unit - 300) * 20\n",
    "    print(\"Bill:\", bill)\n",
    "          "
   ]
  },
  {
   "cell_type": "code",
   "execution_count": 22,
   "id": "820b9f2d-81f4-41b2-a118-148e619c3d42",
   "metadata": {},
   "outputs": [
    {
     "name": "stdout",
     "output_type": "stream",
     "text": [
      "[2, 4, 5, 6, 8, 10, 12, 14, 15, 16, 18, 20, 22, 24, 25, 26, 28, 30, 32, 34, 35, 36, 38, 40, 42, 44, 45, 46, 48, 50, 52, 54, 55, 56, 58, 60, 62, 64, 65, 66, 68, 70, 72, 74, 75, 76, 78, 80, 82, 84, 85, 86, 88, 90, 92, 94, 95, 96, 98, 100]\n"
     ]
    }
   ],
   "source": [
    "# Q4. Create a list of numbers from 1 to 100. Use for loop and while loop to calculate the cube of each\n",
    "# number and if the cube of that number is divisible by 4 or 5 then append that number in a list and print\n",
    "# that list.\n",
    "\n",
    "# Using a for loop\n",
    "cubes_divisible_by_4_or_5 = []\n",
    "\n",
    "for number in range(1, 101):\n",
    "    cube = number ** 3\n",
    "    if cube % 4 == 0 or cube % 5 == 0:\n",
    "        cubes_divisible_by_4_or_5.append(number)\n",
    "\n",
    "print(cubes_divisible_by_4_or_5)"
   ]
  },
  {
   "cell_type": "code",
   "execution_count": 23,
   "id": "11d871a2-af6a-4fe2-b78f-ee85ced801a3",
   "metadata": {},
   "outputs": [
    {
     "name": "stdout",
     "output_type": "stream",
     "text": [
      "[2, 4, 5, 6, 8, 10, 12, 14, 15, 16, 18, 20, 22, 24, 25, 26, 28, 30, 32, 34, 35, 36, 38, 40, 42, 44, 45, 46, 48, 50, 52, 54, 55, 56, 58, 60, 62, 64, 65, 66, 68, 70, 72, 74, 75, 76, 78, 80, 82, 84, 85, 86, 88, 90, 92, 94, 95, 96, 98, 100]\n"
     ]
    }
   ],
   "source": [
    "# Using a while loop\n",
    "cubes_divisible_by_4_or_5 = []\n",
    "number = 1\n",
    "\n",
    "while number <= 100:\n",
    "    cube = number ** 3\n",
    "    if cube % 4 == 0 or cube % 5 == 0:\n",
    "        cubes_divisible_by_4_or_5.append(number)\n",
    "    number += 1\n",
    "\n",
    "print(cubes_divisible_by_4_or_5)"
   ]
  },
  {
   "cell_type": "code",
   "execution_count": 25,
   "id": "66773186-ec5e-4235-9f20-87bdefcce619",
   "metadata": {},
   "outputs": [
    {
     "name": "stdout",
     "output_type": "stream",
     "text": [
      "Number of vowels in the string: 12\n"
     ]
    }
   ],
   "source": [
    "# Q5. Write a program to filter count vowels in the below-given string.\n",
    "# string = \"I want to become a data scientist\"\n",
    "\n",
    "# Input string\n",
    "string = \"I want to become a data scientist\"\n",
    "\n",
    "# Convert the string to lowercase to make it case-insensitive\n",
    "string = string.lower()\n",
    "\n",
    "# Initialize a counter for vowels\n",
    "vowel_count = 0\n",
    "\n",
    "# Define a set of vowels\n",
    "vowels = {'a', 'e', 'i', 'o', 'u'}\n",
    "\n",
    "# Iterate through each character in the string\n",
    "for char in string:\n",
    "    if char in vowels:\n",
    "        vowel_count += 1\n",
    "\n",
    "# Print the count of vowels\n",
    "print(\"Number of vowels in the string:\", vowel_count)\n"
   ]
  },
  {
   "cell_type": "code",
   "execution_count": null,
   "id": "2a144372-b8a6-4faa-b492-8659eed1d2c4",
   "metadata": {},
   "outputs": [],
   "source": []
  }
 ],
 "metadata": {
  "kernelspec": {
   "display_name": "Python 3 (ipykernel)",
   "language": "python",
   "name": "python3"
  },
  "language_info": {
   "codemirror_mode": {
    "name": "ipython",
    "version": 3
   },
   "file_extension": ".py",
   "mimetype": "text/x-python",
   "name": "python",
   "nbconvert_exporter": "python",
   "pygments_lexer": "ipython3",
   "version": "3.10.8"
  }
 },
 "nbformat": 4,
 "nbformat_minor": 5
}
